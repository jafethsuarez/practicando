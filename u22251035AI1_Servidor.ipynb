{
 "cells": [
  {
   "cell_type": "markdown",
   "id": "4825159a-7cab-4957-9d00-bfcb1a323401",
   "metadata": {},
   "source": [
    "<!-- PROFILE LINK -->\n",
    "\n",
    "<h1 style = \"text-align:center; font-size: 30px\">Actividad Individual 1</h1>\n",
    "<a href =\"https://github.com/jafethsuarez\">\n",
    "<img src=\"https://avatars.githubusercontent.com/u/44213172?v=4\" style=\"float:left;vertical-align:centre\" width=\"110\" height=\"110\" title = \"Marcos Jafeth Azabache Suarez 22251035\">\n",
    "<a href =\"https://github.com/sukuzhanay?tab=repositories\">\n",
    "<img src=\"https://media-exp1.licdn.com/dms/image/C4D0BAQEu_Aa76fcmPw/company-logo_200_200/0/1630998679429?e=2159024400&v=beta&t=2feC9GG7RWCWizTqsK5HzDWB1TL2DOQuAVwnMf6FFvk\" title = \"M41\" alt=\"UE\" width=\"110\" height=\"110\" style=\"float:right;vertical-align:centre\">"
   ]
  },
  {
   "cell_type": "markdown",
   "id": "c0600737-3598-49ed-b17e-2e8c15f254d4",
   "metadata": {},
   "source": [
    "#### Enlace a repositorio:  https://github.com/jafethsuarez/Prograconcurrente--> u22251035AI1_Servidor\n"
   ]
  },
  {
   "cell_type": "code",
   "execution_count": null,
   "id": "26558b42-2f36-490b-8e51-3b3f826fc923",
   "metadata": {},
   "outputs": [],
   "source": [
    "import socket\n",
    "import threading\n",
    "import sys\n",
    "import pickle\n",
    "import os\n",
    "import re as reg\n",
    "\n",
    "class Servidor(): ##se hace una clase para llamarla como el main en c\n",
    "\n",
    "\tdef __init__(self, host=socket.gethostname(), port=int(input(\"Que puerto quiere usar ? \"))): ## saber el puerto e ip del host\n",
    "\t\tself.clientes = []\n",
    "\t\tself.nicknames = []\n",
    "\t\tprint('\\nSu IP actual es : ',socket.gethostbyname(host))\n",
    "\t\tprint('\\n\\tProceso con PID = ',os.getpid(), '\\n\\tHilo PRINCIPAL con ID =',threading.currentThread().getName(), '\\n\\tHilo en modo DAEMON = ', threading.currentThread().isDaemon(), '\\n\\tTotal Hilos activos en este punto del programa =', threading.active_count())\n",
    "\t\tself.s = socket.socket()\n",
    "\t\tself.s.bind((str(host), int(port))) ## enlazar el host y el puerto\n",
    "\t\tself.s.listen(30)                   ## espera a que conexiones entren\n",
    "\t\tself.s.setblocking(False)\n",
    "\n",
    "\t\tthreading.Thread(target=self.aceptarC, daemon=True).start()   ## evitar race condition\n",
    "\t\tthreading.Thread(target=self.procesarC, daemon=True).start()\n",
    "\n",
    "\t\twhile True:                                                ## si le doy a 1 apago el servidor\n",
    "\t\t\tmsg = input('\\n << SALIR = 1 >> \\n')\n",
    "\t\t\tif msg == '1':\n",
    "\t\t\t\tprint(\" **** Me piro vampiro; cierro socket y mato SERVER con PID = \", os.getpid())\n",
    "\t\t\t\tself.s.close()\n",
    "\t\t\t\tsys.exit()\n",
    "\t\t\telse: pass\n",
    "\n",
    "\tdef aceptarC(self):\n",
    "\t\tprint('\\nHilo ACEPTAR con ID =',threading.currentThread().getName(), '\\n\\tHilo en modo DAEMON = ', threading.currentThread().isDaemon(),'\\n\\tPertenece al PROCESO con PID', os.getpid(), \"\\n\\tHilos activos TOTALES \", threading.active_count())\n",
    "\t\t\n",
    "\t\twhile True:\n",
    "\t\t\ttry:\n",
    "\t\t\t\tconn, addr = self.s.accept()\n",
    "\t\t\t\tprint(f\"\\nConexion aceptada via {addr}\\n\")\n",
    "\t\t\t\tconn.setblocking(False)\n",
    "\t\t\t\tself.clientes.append(conn)\n",
    "\t\t\texcept: pass\n",
    "\n",
    "\tdef procesarC(self):\n",
    "\t\tprint('\\nHilo PROCESAR con ID =',threading.currentThread().getName(), '\\n\\tHilo en modo DAEMON = ', threading.currentThread().isDaemon(),'\\n\\tPertenece al PROCESO con PID', os.getpid(), \"\\n\\tHilos activos TOTALES \", threading.active_count())  \n",
    "\t\twhile True:\n",
    "\t\t\tif len(self.clientes) > 0:   ##si no hay clientes conectados no se conectan \n",
    "\t\t\t\tfor c in self.clientes:\n",
    "\t\t\t\t\ttry:\n",
    "\t\t\t\t\t\tdata = c.recv(64)                   ##esperoen caso este alguien  en el broadcast\n",
    "\t\t\t\t\t\tif data: self.broadcast(data,c)\n",
    "\t\t\t\t\texcept: pass\n",
    "\n",
    "\tdef broadcast(self, msg, cliente):        ##envia el mensaje a todos los clientes conectados\n",
    "\t\tstr=pickle.loads(msg)\n",
    "\t\tfound=reg.search('^[^ :]*',str)\n",
    "\t\tif found.group() not in self.nicknames:\n",
    "\t\t\tself.nicknames.append(found.group())\n",
    "\t\tfor c in self.clientes:               ## visualizamos cuantos clientes hay conectados\n",
    "\t\t\tprint(\"Clientes conectados Right now = \", len(self.clientes))\n",
    "\t\t\tprint(\"LISTA DE CLIENTES (NICKNAMES)\")\n",
    "\t\t\tfor n in self.nicknames:\n",
    "\t\t\t\tprint(n)\n",
    "\t\t\ttry:\n",
    "\t\t\t\tif c != cliente:             \n",
    "\t\t\t\t\tprint(pickle.loads(msg))\n",
    "\t\t\t\t\tc.send(msg)\n",
    "\t\t\texcept: self.clientes.remove(c)\n",
    "\n",
    "arrancar = Servidor() "
   ]
  },
  {
   "cell_type": "markdown",
   "id": "4134588b-b34c-46c3-90b4-d89db2501e0f",
   "metadata": {},
   "source": [
    "# Evidencia en el PDF"
   ]
  }
 ],
 "metadata": {
  "kernelspec": {
   "display_name": "Python 3 (ipykernel)",
   "language": "python",
   "name": "python3"
  },
  "language_info": {
   "codemirror_mode": {
    "name": "ipython",
    "version": 3
   },
   "file_extension": ".py",
   "mimetype": "text/x-python",
   "name": "python",
   "nbconvert_exporter": "python",
   "pygments_lexer": "ipython3",
   "version": "3.10.7"
  }
 },
 "nbformat": 4,
 "nbformat_minor": 5
}
