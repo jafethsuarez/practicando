{
 "cells": [
  {
   "cell_type": "markdown",
   "id": "b1b8eaa2-7378-4f21-8551-d04eeda6df3e",
   "metadata": {},
   "source": [
    "<!-- PROFILE LINK -->\n",
    "\n",
    "<h1 style = \"text-align:center; font-size: 30px\">Actividad Individual 1</h1>\n",
    "<a href =\"https://github.com/jafethsuarez\">\n",
    "<img src=\"https://avatars.githubusercontent.com/u/44213172?v=4\" style=\"float:left;vertical-align:centre\" width=\"110\" height=\"110\" title = \"Marcos Jafeth Azabache Suarez 22251035\">\n",
    "<a href =\"https://github.com/sukuzhanay?tab=repositories\">\n",
    "<img src=\"https://media-exp1.licdn.com/dms/image/C4D0BAQEu_Aa76fcmPw/company-logo_200_200/0/1630998679429?e=2159024400&v=beta&t=2feC9GG7RWCWizTqsK5HzDWB1TL2DOQuAVwnMf6FFvk\" title = \"M41\" alt=\"UE\" width=\"110\" height=\"110\" style=\"float:right;vertical-align:centre\">"
   ]
  },
  {
   "cell_type": "markdown",
   "id": "fed241b6-7221-41ae-862c-dd59cf9186e7",
   "metadata": {
    "tags": []
   },
   "source": [
    "#### Enlace a repositorio:https://github.com/jafethsuarez/Prograconcurrente u22251035AI1_Cliente\n"
   ]
  },
  {
   "cell_type": "code",
   "execution_count": null,
   "id": "d9b94000-7048-4f30-85d5-a80e06ad63a4",
   "metadata": {},
   "outputs": [],
   "source": [
    "import threading\n",
    "import sys\n",
    "import socket\n",
    "import pickle\n",
    "import os\n",
    "\n",
    "class Cliente():\n",
    "\n",
    "\tdef __init__(self, host=input(\"Intoduzca la IP del servidor ?  \"), port=int(input(\"Intoduzca el PUERTO del servidor ?  \")),nickname=input(\"Cual es tu nickname ? \")):\n",
    "\t\tself.s = socket.socket()\n",
    "\t\tself.s.connect((host, int(port)))\n",
    "\t\tprint('\\n\\tProceso con PID = ',os.getpid(), '\\n\\tHilo PRINCIPAL con ID =',threading.currentThread().getName(), '\\n\\tHilo en modo DAEMON = ', threading.currentThread().isDaemon(),'\\n\\tTotal Hilos activos en este punto del programa =', threading.active_count())\n",
    "\t\tthreading.Thread(target=self.recibir, daemon=True).start()\n",
    "\n",
    "\t\twhile True:\n",
    "\t\t\tmsg =input('\\nEscriba texto ?   ** Enviar = ENTER   ** Salir Chat = 1 \\n')\n",
    "\t\t\twith open(\"u22251035AI1.txt\", \"a\") as f:\n",
    "\t\t\t\tf.write(\"\\n\" + nickname + \":\" + msg)\n",
    "\t\t\t\tf.close()\n",
    "\t\t\tif msg != '1' : \n",
    "\t\t\t\tmsg =nickname+ \":  \" + msg\n",
    "\t\t\t\tself.enviar(msg)\n",
    "\t\t\telse:\n",
    "\t\t\t\tprint(\" **** Me piro vampiro; cierro socket y mato al CLIENTE con PID = \", os.getpid())\n",
    "\t\t\t\tself.s.close()\n",
    "\t\t\t\tsys.exit()\n",
    "\n",
    "\tdef recibir(self):\n",
    "\t\tprint('\\nHilo RECIBIR con ID =',threading.currentThread().getName(), '\\n\\tPertenece al PROCESO con PID', os.getpid(), \"\\n\\tHilos activos TOTALES \", threading.active_count())\n",
    "\t\twhile True:\n",
    "\t\t\ttry:\n",
    "\t\t\t\tdata = self.s.recv(64)\n",
    "\t\t\t\tif data: print(pickle.loads(data)) \n",
    "\t\t\texcept: pass\n",
    "\n",
    "\tdef enviar(self, msg):\n",
    "\t\tself.s.send(pickle.dumps(msg)) \n",
    "\n",
    "arrancar = Cliente()\n",
    "\n",
    "\t\t"
   ]
  },
  {
   "cell_type": "markdown",
   "id": "8c724b9c-ef08-43d5-a84e-a4e559480408",
   "metadata": {},
   "source": [
    "# Evidencia esta en el PDF\n"
   ]
  },
  {
   "cell_type": "code",
   "execution_count": null,
   "id": "8053b08b-4650-4c1a-aa1b-1a67c50758dc",
   "metadata": {},
   "outputs": [],
   "source": []
  }
 ],
 "metadata": {
  "kernelspec": {
   "display_name": "Python 3 (ipykernel)",
   "language": "python",
   "name": "python3"
  },
  "language_info": {
   "codemirror_mode": {
    "name": "ipython",
    "version": 3
   },
   "file_extension": ".py",
   "mimetype": "text/x-python",
   "name": "python",
   "nbconvert_exporter": "python",
   "pygments_lexer": "ipython3",
   "version": "3.10.7"
  }
 },
 "nbformat": 4,
 "nbformat_minor": 5
}
